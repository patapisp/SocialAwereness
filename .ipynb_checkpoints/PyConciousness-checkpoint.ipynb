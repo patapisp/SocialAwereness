{
 "cells": [
  {
   "cell_type": "markdown",
   "metadata": {
    "collapsed": true
   },
   "source": [
    "# Agent based modelling of social systems"
   ]
  },
  {
   "cell_type": "markdown",
   "metadata": {},
   "source": [
    "### Modelling social awereness through a cognitive architecture model\n",
    "Questions/Topics : \n",
    "* What is our question(clear formulation)-> Global awereness\n",
    "* Topology of network\n",
    "* Network generator (random?)\n",
    "* Interaction of agents\n",
    "* Literature\n",
    "* Assumptions"
   ]
  },
  {
   "cell_type": "markdown",
   "metadata": {},
   "source": [
    "### Structure\n",
    "* Output: Plot Magnitude of event vs Importance of agent (color:fraction of agents, prob. to pass threshold)\n",
    "* Model: \n",
    " * P(k) distribution of #of outward lines\n",
    " * Interaction as a weighted relation of importance of agent and magnitude of event)\n",
    "* Network: \n",
    " * Random neighbour selection\n",
    " * % of neighbours interaction in each time step\n",
    "* Events\n",
    " * Prob. distribution of events log(magn)= $\\beta$ - $\\gamma$log(occurences)\n",
    " * Decay as an exponential function\n",
    " * Global magnitude state of each event"
   ]
  },
  {
   "cell_type": "code",
   "execution_count": null,
   "metadata": {
    "collapsed": true
   },
   "outputs": [],
   "source": [
    "class SocialNetwork:\n",
    "    def __init__(self, num_core, num_peripheral):\n",
    "        \n",
    "        \n",
    "\n",
    "class CoreAgent:\n",
    "    def __init__(self, G, position, core_list):\n",
    "        self.G = G\n",
    "        self.num_of_connections = 7 #parameter to explore\n",
    "        \n",
    "    def connect(self):\n",
    "        pass"
   ]
  },
  {
   "cell_type": "code",
   "execution_count": null,
   "metadata": {
    "collapsed": false
   },
   "outputs": [],
   "source": [
    "SocialNetwork = nx.Graph()\n",
    "SocialNetwork.add_node('c')\n",
    "SocialNetwork.add_node('p1')\n",
    "SocialNetwork.add_edge('c', 'p1')\n",
    "SocialNetwork.add_node('p2')\n",
    "SocialNetwork.add_edge('c', 'p2')\n",
    "SocialNetwork.add_node('p3')\n",
    "SocialNetwork.add_edge('c', 'p3')\n",
    "nx.draw(SocialNetwork, node_size=900, node_color=\"red\", with_labels=True)"
   ]
  },
  {
   "cell_type": "code",
   "execution_count": null,
   "metadata": {
    "collapsed": false
   },
   "outputs": [],
   "source": [
    "red=nx.random_lobster(100,0.9,0.9)\n",
    "nx.draw(red)"
   ]
  },
  {
   "cell_type": "code",
   "execution_count": 1,
   "metadata": {
    "collapsed": false
   },
   "outputs": [],
   "source": [
    "import numpy as np\n",
    "import igraph\n",
    "import matplotlib.pyplot as plt\n",
    "% matplotlib inline\n",
    "\n",
    "def displayNetwork(g, visual_style={}):\n",
    "    visual_style[\"vertex_size\"]=8\n",
    "    visual_style[\"edge_arrow_size\"] = 0.5\n",
    "    igraph.plot(g, \"img/temp.png\", **visual_style)\n",
    "    \n",
    "    "
   ]
  },
  {
   "cell_type": "code",
   "execution_count": null,
   "metadata": {
    "collapsed": true
   },
   "outputs": [],
   "source": [
    "N=10\n",
    "\n",
    "# number of peripheral and core agents\n",
    "N1,N2=int(0.8*N),int(0.2*N)\n",
    "\n",
    "# just to be sure that N is actually the sum of the two populations\n",
    "N=int(0.8*N)+int(0.2*N)\n",
    "\n",
    "# distribution probability for those agents\n",
    "p1,p2=0.2,0.8\n",
    "\n",
    "\n",
    "\n",
    "# g is the graph, with N vertices and directed edges\n",
    "g=igraph.Graph(N,directed=True)\n",
    "\n",
    "# We can add edges here, as a list of tuples\n",
    "g.add_edges([(0,1),(1,0),(1,2),(0,2)])\n",
    "\n",
    "# or add 30 random ones like this:\n",
    "for i in range(30):\n",
    "    newlink=np.random.choice(N,2)\n",
    "    g.add_edge(newlink[0],newlink[1])\n",
    "\n",
    "# let's remove double links and self-loops:\n",
    "g=g.simplify()\n",
    "# displys network\n",
    "displayNetwork(g)\n",
    "\n",
    "# g.vs is the vertex sequence of the graph g\n",
    "print(\"Network g contains\", len(g.vs), \"nodes\")\n",
    "print(\"The vertex objects are:\")\n",
    "for x in g.vs:\n",
    "    print(x)"
   ]
  },
  {
   "cell_type": "code",
   "execution_count": null,
   "metadata": {
    "collapsed": true
   },
   "outputs": [],
   "source": []
  }
 ],
 "metadata": {
  "kernelspec": {
   "display_name": "Python 3",
   "language": "python",
   "name": "python3"
  },
  "language_info": {
   "codemirror_mode": {
    "name": "ipython",
    "version": 3
   },
   "file_extension": ".py",
   "mimetype": "text/x-python",
   "name": "python",
   "nbconvert_exporter": "python",
   "pygments_lexer": "ipython3",
   "version": "3.4.3"
  }
 },
 "nbformat": 4,
 "nbformat_minor": 0
}
