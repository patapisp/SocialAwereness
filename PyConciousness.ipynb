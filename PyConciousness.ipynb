{
 "cells": [
  {
   "cell_type": "markdown",
   "metadata": {
    "collapsed": true
   },
   "source": [
    "# Agent based modelling of social systems"
   ]
  },
  {
   "cell_type": "markdown",
   "metadata": {},
   "source": [
    "### Modelling social awereness through a cognitive architecture model\n",
    "Questions/Topics : \n",
    "* What is our question(clear formulation)-> Global awereness\n",
    "* Topology of network\n",
    "* Network generator (random?)\n",
    "* Interaction of agents\n",
    "* Literature\n",
    "* Assumptions"
   ]
  },
  {
   "cell_type": "markdown",
   "metadata": {},
   "source": [
    "### Structure\n",
    "* Output: Plot Magnitude of event vs Importance of agent (color:fraction of agents, prob. to pass threshold)\n",
    "* Model: \n",
    " * P(k) distribution of #of outward lines\n",
    " * Interaction as a weighted relation of importance of agent and magnitude of event)\n",
    "* Network: \n",
    " * Random neighbour selection\n",
    " * % of neighbours interaction in each time step\n",
    "* Events\n",
    " * Prob. distribution of events log(magn)= $\\beta$ - $\\gamma$log(occurences)\n",
    " * Decay as an exponential function\n",
    " * Global magnitude state of each event"
   ]
  },
  {
   "cell_type": "code",
   "execution_count": 1,
   "metadata": {
    "collapsed": false
   },
   "outputs": [],
   "source": [
    "import numpy as np\n",
    "import igraph\n",
    "import matplotlib.pyplot as plt\n",
    "import random\n",
    "from matplotlib import animation\n",
    "from IPython.display import *\n",
    "from PIL import Image\n",
    "#% matplotlib"
   ]
  },
  {
   "cell_type": "code",
   "execution_count": 23,
   "metadata": {
    "collapsed": false
   },
   "outputs": [],
   "source": [
    "class SocialNet:\n",
    "    def __init__(self, N):\n",
    "        \"\"\"\n",
    "        Initialize the Graph with N number of agents and \n",
    "        give them a number of connections(links) from a \n",
    "        power law distribution -> scale-free network. Adjust \n",
    "        the size of each vertex to represent the number of\n",
    "        links it has.\n",
    "        \"\"\"\n",
    "        \n",
    "        self.time=0\n",
    "        self.N = N        \n",
    "        self.g = igraph.Graph(self.N ,directed=True)\n",
    "        self._create_agents()\n",
    "        self.visual_style = {}\n",
    "        self.visual_style[\"edge_arrow_size\"] = 0.5\n",
    "        layout = self.g.layout(\"fruchterman_reingold\")\n",
    "        self.visual_style[\"layout\"] = layout\n",
    "        #self.visual_style[\"vertex_size\"]=self.g.vs[\"size\"]\n",
    "        \n",
    "        # All events stored in this list! First event is the null-event. All agents start with that.\n",
    "        self.events=[Event(magnitude=0)]\n",
    "    \n",
    "    def _create_agents(self):\n",
    "        \"\"\"Sets attributes of vertices in Graph g\"\"\"\n",
    "        for v in self.g.vs:\n",
    "            \n",
    "            # Initialize with null-event\n",
    "            v[\"event_id\"]=0\n",
    "            v[\"event_magnitude\"]=0\n",
    "            \n",
    "            # Generate number of links and format vertex based on that\n",
    "            links = self.scale_free_distr()\n",
    "            v[\"size\"] = 5 + 2*links\n",
    "            v[\"links\"] = links\n",
    "            if links > 5:\n",
    "                v[\"type\"] = \"core\"\n",
    "                v[\"color\"] = \"slate blue\"\n",
    "            else:\n",
    "                v[\"type\"] = \"peripheral\"\n",
    "                v[\"color\"] = \"SeaGreen2\"  \n",
    "            \n",
    "            # Create actual links between agents\n",
    "            for link_id in range(links):\n",
    "                source = v.index\n",
    "                target = np.random.randint(0, len(self.g.vs))\n",
    "                if not self.g.are_connected(source, target) and target!=source:\n",
    "                    self.g.add_edge(source,target)\n",
    "                #self.g=self.g.simplify()\n",
    "        return\n",
    "    \n",
    "    def scale_free_distr(self):\n",
    "        \"\"\"Power law distr P(k)=k^-2. In order to \n",
    "        limit the number of links possible distr is truncated\n",
    "        at 0.001\n",
    "        \"\"\"\n",
    "        p = np.random.rand()\n",
    "        if p <= 0.001:\n",
    "            return 1\n",
    "        else:\n",
    "            return int(np.round(1/np.sqrt(p)))\n",
    "        \n",
    "    def update(self):\n",
    "        \"\"\"Update all vertices by propagating the information and setting the new state\"\"\"\n",
    "        # In each time-step events happen to agents.\n",
    "        for v in self.g.vs:\n",
    "            new_event = Event()\n",
    "            # See whether new event is more interesting than old one\n",
    "            if new_event.magnitude > v[\"event_magnitude\"]:\n",
    "                self.events.append(new_event)\n",
    "                v[\"event_id\"]=len(self.events)-1\n",
    "                v[\"event_magnitude\"]=new_event.magnitude    \n",
    "                v[\"color\"]=new_event.color\n",
    "        \n",
    "        # In each time-step agents communicate.\n",
    "        \"\"\" Dynamics: event taken over deterministicly if it is larger event. Important: one-way comparison! \"\"\"\n",
    "        for v in self.g.vs:\n",
    "            for neighbor in v.neighbors(mode=igraph.OUT):\n",
    "                # only broadcast to a given proportion of neighbors\n",
    "                if np.random.uniform(0,1)<0.5:\n",
    "                    if neighbor[\"event_magnitude\"]<v[\"event_magnitude\"]:\n",
    "                        neighbor[\"event_magnitude\"]=v[\"event_magnitude\"]\n",
    "                        neighbor[\"event_id\"]=v[\"event_id\"]\n",
    "                        neighbor[\"color\"]=v[\"color\"]\n",
    "                # else do nothing    \n",
    "        \n",
    "        # At the end of each time-step decay all events and update all vertice event magnitudes\n",
    "        for single_event in self.events:\n",
    "            single_event.decay()\n",
    "            for v in self.g.vs:\n",
    "                v[\"event_magnitude\"]=self.events[v[\"event_id\"]].magnitude\n",
    "\n",
    "                \n",
    "        self.time+=1\n",
    "    \n",
    "        \n",
    "    def draw(self):        \n",
    "        igraph.plot(self.g, \"img/temp%i.png\"%self.time, **self.visual_style)\n",
    "        #display(Image(filename='img/temp%i.png'%self.time))\n",
    "        \n",
    "    \"\"\"def displayPlot(self):\n",
    "        plt.savefig(\"img/temp_plot.png\")\n",
    "        display(Image(filename='img/temp_plot.png'))\"\"\"\n",
    "\n",
    "class Agent(igraph.Vertex):\n",
    "    def __init__(self, name, num_links):\n",
    "        self.attr = self.attributes()\n",
    "        self.num_links = num_links\n",
    "        self.visual_style[\"vertex_size\"]=2*self.num_links\n",
    "        self.visual_style[\"edge_arrow_size\"] = 0.5\n",
    "        self.event = 0\n",
    "    def _create_links(self):\n",
    "        pass\n",
    "    def set_attributes(self):\n",
    "        self.attr[\"size\"] = int(self.num_links*2)\n",
    "        \n",
    "class Event:\n",
    "    \"\"\" Single event. \"\"\"\n",
    "    def __init__(self,magnitude=None):\n",
    "        # This part is so that if I don't give any value, then the magnitude is generated\n",
    "        if magnitude==None:\n",
    "            magnitude=np.random.power(a=0.02)\n",
    "        self.magnitude=magnitude\n",
    "        self.color= \"#%06x\" % random.randint(0, 0xFFFFFF)\n",
    "    def decay(self):\n",
    "        # keep dt=1 for now since we have discrete time-steps\n",
    "        gamma=0.01\n",
    "        dt=1\n",
    "        self.magnitude=self.magnitude*(1-gamma*dt)"
   ]
  },
  {
   "cell_type": "raw",
   "metadata": {
    "collapsed": false
   },
   "source": [
    "\"\"\" Just some playing with power lay and its plotting. \"\"\"\n",
    "x = 10**np.random.power(a=0.02,size=10000) \n",
    "# histogram with log-bining \n",
    "plt.hist(x, bins=10**np.linspace(0, 1, 100))\n",
    "plt.yscale('log', nonposy='clip')\n",
    "plt.xscale('log') \n",
    "plt.xlabel('magnitude')\n",
    "plt.ylabel('occurence')\n",
    "plt.show() "
   ]
  },
  {
   "cell_type": "code",
   "execution_count": 24,
   "metadata": {
    "collapsed": false
   },
   "outputs": [],
   "source": [
    "#Net = SocialNet(100)\n",
    "#Net.draw()"
   ]
  },
  {
   "cell_type": "code",
   "execution_count": 25,
   "metadata": {
    "collapsed": false
   },
   "outputs": [],
   "source": [
    "Net=SocialNet(100)\n",
    "maxtime=100\n",
    "for i in range(maxtime):\n",
    "    Net.update()\n",
    "    Net.draw()\n",
    "\n",
    "t=1\n",
    "fig = plt.figure()\n",
    "img0 = Image.open('img/temp%i.png'%t)\n",
    "im=plt.imshow(img0)\n",
    "def updatefig(fake):\n",
    "    global t\n",
    "    img = Image.open('img/temp%i.png'%((t%maxtime)+1))\n",
    "    im.set_data(img)\n",
    "    t+=1\n",
    "    return im\n",
    "ani = animation.FuncAnimation(fig, updatefig, interval=700)\n",
    "plt.show()"
   ]
  },
  {
   "cell_type": "code",
   "execution_count": null,
   "metadata": {
    "collapsed": true
   },
   "outputs": [],
   "source": []
  }
 ],
 "metadata": {
  "kernelspec": {
   "display_name": "Python 3",
   "language": "python",
   "name": "python3"
  },
  "language_info": {
   "codemirror_mode": {
    "name": "ipython",
    "version": 3
   },
   "file_extension": ".py",
   "mimetype": "text/x-python",
   "name": "python",
   "nbconvert_exporter": "python",
   "pygments_lexer": "ipython3",
   "version": "3.5.1"
  }
 },
 "nbformat": 4,
 "nbformat_minor": 0
}
